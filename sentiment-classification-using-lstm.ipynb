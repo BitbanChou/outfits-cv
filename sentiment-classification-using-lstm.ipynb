{
 "cells": [
  {
   "cell_type": "code",
   "execution_count": null,
   "metadata": {
    "_cell_guid": "79c7e3d0-c299-4dcb-8224-4455121ee9b0",
    "_uuid": "d629ff2d2480ee46fbb7e2d37f6b5fab8052498a",
    "execution": {
     "iopub.execute_input": "2021-01-31T14:51:15.161733Z",
     "iopub.status.busy": "2021-01-31T14:51:15.161098Z",
     "iopub.status.idle": "2021-01-31T14:51:15.623234Z",
     "shell.execute_reply": "2021-01-31T14:51:15.622764Z"
    },
    "papermill": {
     "duration": 0.475369,
     "end_time": "2021-01-31T14:51:15.623337",
     "exception": false,
     "start_time": "2021-01-31T14:51:15.147968",
     "status": "completed"
    },
    "tags": []
   },
   "outputs": [
    {
     "data": {
      "text/html": [
       "<div>\n",
       "<style scoped>\n",
       "    .dataframe tbody tr th:only-of-type {\n",
       "        vertical-align: middle;\n",
       "    }\n",
       "\n",
       "    .dataframe tbody tr th {\n",
       "        vertical-align: top;\n",
       "    }\n",
       "\n",
       "    .dataframe thead th {\n",
       "        text-align: right;\n",
       "    }\n",
       "</style>\n",
       "<table border=\"1\" class=\"dataframe\">\n",
       "  <thead>\n",
       "    <tr style=\"text-align: right;\">\n",
       "      <th></th>\n",
       "      <th>PhraseId</th>\n",
       "      <th>SentenceId</th>\n",
       "      <th>Phrase</th>\n",
       "      <th>Sentiment</th>\n",
       "    </tr>\n",
       "  </thead>\n",
       "  <tbody>\n",
       "    <tr>\n",
       "      <th>0</th>\n",
       "      <td>1</td>\n",
       "      <td>1</td>\n",
       "      <td>A series of escapades demonstrating the adage ...</td>\n",
       "      <td>1</td>\n",
       "    </tr>\n",
       "    <tr>\n",
       "      <th>1</th>\n",
       "      <td>2</td>\n",
       "      <td>1</td>\n",
       "      <td>A series of escapades demonstrating the adage ...</td>\n",
       "      <td>2</td>\n",
       "    </tr>\n",
       "    <tr>\n",
       "      <th>2</th>\n",
       "      <td>3</td>\n",
       "      <td>1</td>\n",
       "      <td>A series</td>\n",
       "      <td>2</td>\n",
       "    </tr>\n",
       "    <tr>\n",
       "      <th>3</th>\n",
       "      <td>4</td>\n",
       "      <td>1</td>\n",
       "      <td>A</td>\n",
       "      <td>2</td>\n",
       "    </tr>\n",
       "    <tr>\n",
       "      <th>4</th>\n",
       "      <td>5</td>\n",
       "      <td>1</td>\n",
       "      <td>series</td>\n",
       "      <td>2</td>\n",
       "    </tr>\n",
       "  </tbody>\n",
       "</table>\n",
       "</div>"
      ],
      "text/plain": [
       "   PhraseId  SentenceId                                             Phrase  \\\n",
       "0         1           1  A series of escapades demonstrating the adage ...   \n",
       "1         2           1  A series of escapades demonstrating the adage ...   \n",
       "2         3           1                                           A series   \n",
       "3         4           1                                                  A   \n",
       "4         5           1                                             series   \n",
       "\n",
       "   Sentiment  \n",
       "0          1  \n",
       "1          2  \n",
       "2          2  \n",
       "3          2  \n",
       "4          2  "
      ]
     },
     "execution_count": 2,
     "metadata": {},
     "output_type": "execute_result"
    }
   ],
   "source": [
    "import os\n",
    "train_data = pd.read_csv('./train.tsv.zip',sep = '\\t')\n",
    "test_data = pd.read_csv('./test.tsv.zip',sep = '\\t')\n",
    "train_data.head()"
   ]
  },
  {
   "cell_type": "code",
   "execution_count": 3,
   "metadata": {
    "execution": {
     "iopub.execute_input": "2021-01-31T14:51:15.654687Z",
     "iopub.status.busy": "2021-01-31T14:51:15.646843Z",
     "iopub.status.idle": "2021-01-31T14:51:15.657751Z",
     "shell.execute_reply": "2021-01-31T14:51:15.658156Z"
    },
    "papermill": {
     "duration": 0.02551,
     "end_time": "2021-01-31T14:51:15.658269",
     "exception": false,
     "start_time": "2021-01-31T14:51:15.632759",
     "status": "completed"
    },
    "tags": []
   },
   "outputs": [],
   "source": [
    "train_data = train_data.drop(['PhraseId','SentenceId'],axis = 1)\n",
    "test_data = test_data.drop(['PhraseId','SentenceId'],axis = 1)"
   ]
  },
  {
   "cell_type": "code",
   "execution_count": 4,
   "metadata": {
    "execution": {
     "iopub.execute_input": "2021-01-31T14:51:15.681585Z",
     "iopub.status.busy": "2021-01-31T14:51:15.681075Z",
     "iopub.status.idle": "2021-01-31T14:51:20.497306Z",
     "shell.execute_reply": "2021-01-31T14:51:20.495860Z"
    },
    "papermill": {
     "duration": 4.829794,
     "end_time": "2021-01-31T14:51:20.497417",
     "exception": false,
     "start_time": "2021-01-31T14:51:15.667623",
     "status": "completed"
    },
    "tags": []
   },
   "outputs": [],
   "source": [
    "import keras\n",
    "from keras.models import Sequential\n",
    "from keras.layers import Dense\n",
    "from keras.layers import LSTM\n",
    "from keras.layers import Activation\n",
    "from keras.layers import Embedding\n",
    "from keras.layers import Bidirectional"
   ]
  },
  {
   "cell_type": "code",
   "execution_count": 5,
   "metadata": {
    "execution": {
     "iopub.execute_input": "2021-01-31T14:51:20.521670Z",
     "iopub.status.busy": "2021-01-31T14:51:20.520898Z",
     "iopub.status.idle": "2021-01-31T14:51:20.523823Z",
     "shell.execute_reply": "2021-01-31T14:51:20.523408Z"
    },
    "papermill": {
     "duration": 0.016637,
     "end_time": "2021-01-31T14:51:20.523909",
     "exception": false,
     "start_time": "2021-01-31T14:51:20.507272",
     "status": "completed"
    },
    "tags": []
   },
   "outputs": [],
   "source": [
    "max_features = 20000  # Only consider the top 20k words\n",
    "maxlen = 200"
   ]
  },
  {
   "cell_type": "code",
   "execution_count": 6,
   "metadata": {
    "execution": {
     "iopub.execute_input": "2021-01-31T14:51:20.550975Z",
     "iopub.status.busy": "2021-01-31T14:51:20.550166Z",
     "iopub.status.idle": "2021-01-31T14:51:20.553928Z",
     "shell.execute_reply": "2021-01-31T14:51:20.553531Z"
    },
    "papermill": {
     "duration": 0.020472,
     "end_time": "2021-01-31T14:51:20.554012",
     "exception": false,
     "start_time": "2021-01-31T14:51:20.533540",
     "status": "completed"
    },
    "tags": []
   },
   "outputs": [
    {
     "data": {
      "text/html": [
       "<div>\n",
       "<style scoped>\n",
       "    .dataframe tbody tr th:only-of-type {\n",
       "        vertical-align: middle;\n",
       "    }\n",
       "\n",
       "    .dataframe tbody tr th {\n",
       "        vertical-align: top;\n",
       "    }\n",
       "\n",
       "    .dataframe thead th {\n",
       "        text-align: right;\n",
       "    }\n",
       "</style>\n",
       "<table border=\"1\" class=\"dataframe\">\n",
       "  <thead>\n",
       "    <tr style=\"text-align: right;\">\n",
       "      <th></th>\n",
       "      <th>Phrase</th>\n",
       "      <th>Sentiment</th>\n",
       "    </tr>\n",
       "  </thead>\n",
       "  <tbody>\n",
       "    <tr>\n",
       "      <th>0</th>\n",
       "      <td>A series of escapades demonstrating the adage ...</td>\n",
       "      <td>1</td>\n",
       "    </tr>\n",
       "    <tr>\n",
       "      <th>1</th>\n",
       "      <td>A series of escapades demonstrating the adage ...</td>\n",
       "      <td>2</td>\n",
       "    </tr>\n",
       "    <tr>\n",
       "      <th>2</th>\n",
       "      <td>A series</td>\n",
       "      <td>2</td>\n",
       "    </tr>\n",
       "    <tr>\n",
       "      <th>3</th>\n",
       "      <td>A</td>\n",
       "      <td>2</td>\n",
       "    </tr>\n",
       "    <tr>\n",
       "      <th>4</th>\n",
       "      <td>series</td>\n",
       "      <td>2</td>\n",
       "    </tr>\n",
       "  </tbody>\n",
       "</table>\n",
       "</div>"
      ],
      "text/plain": [
       "                                              Phrase  Sentiment\n",
       "0  A series of escapades demonstrating the adage ...          1\n",
       "1  A series of escapades demonstrating the adage ...          2\n",
       "2                                           A series          2\n",
       "3                                                  A          2\n",
       "4                                             series          2"
      ]
     },
     "execution_count": 6,
     "metadata": {},
     "output_type": "execute_result"
    }
   ],
   "source": [
    "train_data.head()"
   ]
  },
  {
   "cell_type": "code",
   "execution_count": 7,
   "metadata": {
    "execution": {
     "iopub.execute_input": "2021-01-31T14:51:20.581794Z",
     "iopub.status.busy": "2021-01-31T14:51:20.581282Z",
     "iopub.status.idle": "2021-01-31T14:51:21.739702Z",
     "shell.execute_reply": "2021-01-31T14:51:21.738694Z"
    },
    "papermill": {
     "duration": 1.175818,
     "end_time": "2021-01-31T14:51:21.739831",
     "exception": false,
     "start_time": "2021-01-31T14:51:20.564013",
     "status": "completed"
    },
    "tags": []
   },
   "outputs": [],
   "source": [
    "from nltk.corpus import stopwords\n",
    "import re\n",
    "def text_cleaning(text):\n",
    "    forbidden_words = set(stopwords.words('english'))\n",
    "    if text:\n",
    "        text = ' '.join(text.split('.'))\n",
    "        text = re.sub('\\/',' ',text)\n",
    "        text = re.sub(r'\\\\',' ',text)\n",
    "        text = re.sub(r'((http)\\S+)','',text)\n",
    "        text = re.sub(r'\\s+', ' ', re.sub('[^A-Za-z]', ' ', text.strip().lower())).strip()\n",
    "        text = re.sub(r'\\W+', ' ', text.strip().lower()).strip()\n",
    "        text = [word for word in text.split() if word not in forbidden_words]\n",
    "        return text\n",
    "    return []"
   ]
  },
  {
   "cell_type": "code",
   "execution_count": 8,
   "metadata": {
    "execution": {
     "iopub.execute_input": "2021-01-31T14:51:21.773256Z",
     "iopub.status.busy": "2021-01-31T14:51:21.772475Z",
     "iopub.status.idle": "2021-01-31T14:52:13.780299Z",
     "shell.execute_reply": "2021-01-31T14:52:13.779418Z"
    },
    "papermill": {
     "duration": 52.030118,
     "end_time": "2021-01-31T14:52:13.780413",
     "exception": false,
     "start_time": "2021-01-31T14:51:21.750295",
     "status": "completed"
    },
    "tags": []
   },
   "outputs": [],
   "source": [
    "train_data['flag'] = 'TRAIN'\n",
    "test_data['flag'] = 'TEST'\n",
    "total_docs = pd.concat([train_data,test_data],axis = 0,ignore_index = True)\n",
    "total_docs['Phrase'] = total_docs['Phrase'].apply(lambda x: ' '.join(text_cleaning(x)))\n",
    "phrases = total_docs['Phrase'].tolist()\n",
    "from keras.preprocessing.text import one_hot\n",
    "vocab_size = 50000\n",
    "encoded_phrases = [one_hot(d, vocab_size) for d in phrases]\n",
    "total_docs['Phrase'] = encoded_phrases\n",
    "train_data = total_docs[total_docs['flag'] == 'TRAIN']\n",
    "test_data = total_docs[total_docs['flag'] == 'TEST']\n",
    "x_train = train_data['Phrase']\n",
    "y_train = train_data['Sentiment']\n",
    "x_val = test_data['Phrase']\n",
    "y_val = test_data['Sentiment']"
   ]
  },
  {
   "cell_type": "code",
   "execution_count": 9,
   "metadata": {
    "execution": {
     "iopub.execute_input": "2021-01-31T14:52:13.806379Z",
     "iopub.status.busy": "2021-01-31T14:52:13.805557Z",
     "iopub.status.idle": "2021-01-31T14:52:13.811299Z",
     "shell.execute_reply": "2021-01-31T14:52:13.810879Z"
    },
    "papermill": {
     "duration": 0.020033,
     "end_time": "2021-01-31T14:52:13.811388",
     "exception": false,
     "start_time": "2021-01-31T14:52:13.791355",
     "status": "completed"
    },
    "tags": []
   },
   "outputs": [
    {
     "data": {
      "text/plain": [
       "array([1, 2, 3, 4, 0])"
      ]
     },
     "execution_count": 9,
     "metadata": {},
     "output_type": "execute_result"
    }
   ],
   "source": [
    "y_train.unique()"
   ]
  },
  {
   "cell_type": "code",
   "execution_count": 10,
   "metadata": {
    "execution": {
     "iopub.execute_input": "2021-01-31T14:52:13.879265Z",
     "iopub.status.busy": "2021-01-31T14:52:13.871375Z",
     "iopub.status.idle": "2021-01-31T14:52:15.684087Z",
     "shell.execute_reply": "2021-01-31T14:52:15.683595Z"
    },
    "papermill": {
     "duration": 1.862008,
     "end_time": "2021-01-31T14:52:15.684212",
     "exception": false,
     "start_time": "2021-01-31T14:52:13.822204",
     "status": "completed"
    },
    "tags": []
   },
   "outputs": [],
   "source": [
    "x_train = keras.preprocessing.sequence.pad_sequences(x_train, maxlen=maxlen)\n",
    "x_val = keras.preprocessing.sequence.pad_sequences(x_val, maxlen=maxlen)"
   ]
  },
  {
   "cell_type": "code",
   "execution_count": 11,
   "metadata": {
    "execution": {
     "iopub.execute_input": "2021-01-31T14:52:15.712923Z",
     "iopub.status.busy": "2021-01-31T14:52:15.712409Z",
     "iopub.status.idle": "2021-01-31T14:52:19.351826Z",
     "shell.execute_reply": "2021-01-31T14:52:19.352540Z"
    },
    "papermill": {
     "duration": 3.656866,
     "end_time": "2021-01-31T14:52:19.352706",
     "exception": false,
     "start_time": "2021-01-31T14:52:15.695840",
     "status": "completed"
    },
    "tags": []
   },
   "outputs": [
    {
     "name": "stdout",
     "output_type": "stream",
     "text": [
      "Model: \"sequential\"\n",
      "_________________________________________________________________\n",
      "Layer (type)                 Output Shape              Param #   \n",
      "=================================================================\n",
      "embedding (Embedding)        (None, None, 128)         6400000   \n",
      "_________________________________________________________________\n",
      "bidirectional (Bidirectional (None, None, 128)         98816     \n",
      "_________________________________________________________________\n",
      "bidirectional_1 (Bidirection (None, 128)               98816     \n",
      "_________________________________________________________________\n",
      "dense (Dense)                (None, 5)                 645       \n",
      "=================================================================\n",
      "Total params: 6,598,277\n",
      "Trainable params: 6,598,277\n",
      "Non-trainable params: 0\n",
      "_________________________________________________________________\n"
     ]
    }
   ],
   "source": [
    "model = Sequential()\n",
    "inputs = keras.Input(shape=(None,), dtype=\"int32\")\n",
    "# Embed each integer in a 128-dimensional vector\n",
    "model.add(inputs)\n",
    "model.add(Embedding(50000, 128))\n",
    "# Add 2 bidirectional LSTMs\n",
    "model.add(Bidirectional(LSTM(64, return_sequences=True)))\n",
    "model.add(Bidirectional(LSTM(64)))\n",
    "# Add a classifier\n",
    "model.add(Dense(5, activation=\"sigmoid\"))\n",
    "#model = keras.Model(inputs, outputs)\n",
    "model.summary()"
   ]
  },
  {
   "cell_type": "code",
   "execution_count": 12,
   "metadata": {
    "execution": {
     "iopub.execute_input": "2021-01-31T14:52:19.389995Z",
     "iopub.status.busy": "2021-01-31T14:52:19.389198Z",
     "iopub.status.idle": "2021-01-31T19:21:21.125139Z",
     "shell.execute_reply": "2021-01-31T19:21:21.125556Z"
    },
    "papermill": {
     "duration": 16141.759508,
     "end_time": "2021-01-31T19:21:21.125721",
     "exception": false,
     "start_time": "2021-01-31T14:52:19.366213",
     "status": "completed"
    },
    "tags": []
   },
   "outputs": [
    {
     "name": "stdout",
     "output_type": "stream",
     "text": [
      "Epoch 1/30\n",
      "4877/4877 [==============================] - 562s 115ms/step - loss: 0.9593 - accuracy: 0.6107 - val_loss: 0.7819 - val_accuracy: 0.6798\n",
      "Epoch 2/30\n",
      "4877/4877 [==============================] - 520s 107ms/step - loss: 0.7942 - accuracy: 0.6729 - val_loss: 0.7094 - val_accuracy: 0.7114\n",
      "Epoch 3/30\n",
      "4877/4877 [==============================] - 523s 107ms/step - loss: 0.7314 - accuracy: 0.6994 - val_loss: 0.6513 - val_accuracy: 0.7368\n",
      "Epoch 4/30\n",
      "4877/4877 [==============================] - 544s 111ms/step - loss: 0.6855 - accuracy: 0.7150 - val_loss: 0.6129 - val_accuracy: 0.7506\n",
      "Epoch 5/30\n",
      "4877/4877 [==============================] - 544s 112ms/step - loss: 0.6489 - accuracy: 0.7288 - val_loss: 0.5792 - val_accuracy: 0.7603\n",
      "Epoch 6/30\n",
      "4877/4877 [==============================] - 541s 111ms/step - loss: 0.6163 - accuracy: 0.7398 - val_loss: 0.5455 - val_accuracy: 0.7705\n",
      "Epoch 7/30\n",
      "4877/4877 [==============================] - 551s 113ms/step - loss: 0.5879 - accuracy: 0.7488 - val_loss: 0.5203 - val_accuracy: 0.7782\n",
      "Epoch 8/30\n",
      "4877/4877 [==============================] - 520s 107ms/step - loss: 0.5610 - accuracy: 0.7562 - val_loss: 0.4944 - val_accuracy: 0.7843\n",
      "Epoch 9/30\n",
      "4877/4877 [==============================] - 517s 106ms/step - loss: 0.5362 - accuracy: 0.7633 - val_loss: 0.4747 - val_accuracy: 0.7918\n",
      "Epoch 10/30\n",
      "4877/4877 [==============================] - 513s 105ms/step - loss: 0.5138 - accuracy: 0.7699 - val_loss: 0.4519 - val_accuracy: 0.7954\n",
      "Epoch 11/30\n",
      "4877/4877 [==============================] - 537s 110ms/step - loss: 0.4930 - accuracy: 0.7757 - val_loss: 0.4314 - val_accuracy: 0.8014\n",
      "Epoch 12/30\n",
      "4877/4877 [==============================] - 541s 111ms/step - loss: 0.4742 - accuracy: 0.7802 - val_loss: 0.4160 - val_accuracy: 0.8041\n",
      "Epoch 13/30\n",
      "4877/4877 [==============================] - 539s 110ms/step - loss: 0.4581 - accuracy: 0.7848 - val_loss: 0.4032 - val_accuracy: 0.8075\n",
      "Epoch 14/30\n",
      "4877/4877 [==============================] - 539s 110ms/step - loss: 0.4431 - accuracy: 0.7877 - val_loss: 0.3946 - val_accuracy: 0.8103\n",
      "Epoch 15/30\n",
      "4877/4877 [==============================] - 541s 111ms/step - loss: 0.4311 - accuracy: 0.7909 - val_loss: 0.3870 - val_accuracy: 0.8121\n",
      "Epoch 16/30\n",
      "4877/4877 [==============================] - 549s 113ms/step - loss: 0.4188 - accuracy: 0.7941 - val_loss: 0.3708 - val_accuracy: 0.8146\n",
      "Epoch 17/30\n",
      "4877/4877 [==============================] - 542s 111ms/step - loss: 0.4098 - accuracy: 0.7967 - val_loss: 0.3668 - val_accuracy: 0.8154\n",
      "Epoch 18/30\n",
      "4877/4877 [==============================] - 545s 112ms/step - loss: 0.4005 - accuracy: 0.7985 - val_loss: 0.3622 - val_accuracy: 0.8160\n",
      "Epoch 19/30\n",
      "4877/4877 [==============================] - 574s 118ms/step - loss: 0.3924 - accuracy: 0.8013 - val_loss: 0.3524 - val_accuracy: 0.8182\n",
      "Epoch 20/30\n",
      "4877/4877 [==============================] - 543s 111ms/step - loss: 0.3860 - accuracy: 0.8023 - val_loss: 0.3474 - val_accuracy: 0.8191\n",
      "Epoch 21/30\n",
      "4877/4877 [==============================] - 530s 109ms/step - loss: 0.3805 - accuracy: 0.8034 - val_loss: 0.3419 - val_accuracy: 0.8201\n",
      "Epoch 22/30\n",
      "4877/4877 [==============================] - 531s 109ms/step - loss: 0.3746 - accuracy: 0.8048 - val_loss: 0.3409 - val_accuracy: 0.8198\n",
      "Epoch 23/30\n",
      "4877/4877 [==============================] - 536s 110ms/step - loss: 0.3702 - accuracy: 0.8063 - val_loss: 0.3388 - val_accuracy: 0.8214\n",
      "Epoch 24/30\n",
      "4877/4877 [==============================] - 535s 110ms/step - loss: 0.3664 - accuracy: 0.8070 - val_loss: 0.3346 - val_accuracy: 0.8211\n",
      "Epoch 25/30\n",
      "4877/4877 [==============================] - 519s 106ms/step - loss: 0.3630 - accuracy: 0.8086 - val_loss: 0.3289 - val_accuracy: 0.8219\n",
      "Epoch 26/30\n",
      "4877/4877 [==============================] - 546s 112ms/step - loss: 0.3586 - accuracy: 0.8095 - val_loss: 0.3253 - val_accuracy: 0.8227\n",
      "Epoch 27/30\n",
      "4877/4877 [==============================] - 519s 106ms/step - loss: 0.3556 - accuracy: 0.8103 - val_loss: 0.3275 - val_accuracy: 0.8232\n",
      "Epoch 28/30\n",
      "4877/4877 [==============================] - 540s 111ms/step - loss: 0.3544 - accuracy: 0.8101 - val_loss: 0.3213 - val_accuracy: 0.8233\n",
      "Epoch 29/30\n",
      "4877/4877 [==============================] - 539s 111ms/step - loss: 0.3510 - accuracy: 0.8117 - val_loss: 0.3220 - val_accuracy: 0.8242\n",
      "Epoch 30/30\n",
      "4877/4877 [==============================] - 553s 113ms/step - loss: 0.3485 - accuracy: 0.8124 - val_loss: 0.3187 - val_accuracy: 0.8238\n"
     ]
    },
    {
     "data": {
      "text/plain": [
       "<tensorflow.python.keras.callbacks.History at 0x7fa9b82520d0>"
      ]
     },
     "execution_count": 12,
     "metadata": {},
     "output_type": "execute_result"
    }
   ],
   "source": [
    "model.compile(\"adam\", \"sparse_categorical_crossentropy\", metrics=[\"accuracy\"])\n",
    "model.fit(x_train, y_train, batch_size=32, epochs=30, validation_data=(x_val, y_val))"
   ]
  },
  {
   "cell_type": "code",
   "execution_count": 13,
   "metadata": {
    "execution": {
     "iopub.execute_input": "2021-01-31T19:22:47.746291Z",
     "iopub.status.busy": "2021-01-31T19:22:47.745313Z",
     "iopub.status.idle": "2021-01-31T20:08:05.784928Z",
     "shell.execute_reply": "2021-01-31T20:08:05.785417Z"
    },
    "papermill": {
     "duration": 2761.62412,
     "end_time": "2021-01-31T20:08:05.785551",
     "exception": false,
     "start_time": "2021-01-31T19:22:04.161431",
     "status": "completed"
    },
    "tags": []
   },
   "outputs": [
    {
     "name": "stdout",
     "output_type": "stream",
     "text": [
      "Epoch 1/5\n",
      "4877/4877 [==============================] - 535s 110ms/step - loss: 0.3477 - accuracy: 0.8128 - val_loss: 0.3193 - val_accuracy: 0.8240\n",
      "Epoch 2/5\n",
      "4877/4877 [==============================] - 543s 111ms/step - loss: 0.3457 - accuracy: 0.8134 - val_loss: 0.3173 - val_accuracy: 0.8250\n",
      "Epoch 3/5\n",
      "4877/4877 [==============================] - 542s 111ms/step - loss: 0.3428 - accuracy: 0.8140 - val_loss: 0.3158 - val_accuracy: 0.8254\n",
      "Epoch 4/5\n",
      "4877/4877 [==============================] - 541s 111ms/step - loss: 0.3429 - accuracy: 0.8144 - val_loss: 0.3165 - val_accuracy: 0.8257\n",
      "Epoch 5/5\n",
      "4877/4877 [==============================] - 557s 114ms/step - loss: 0.3395 - accuracy: 0.8150 - val_loss: 0.3136 - val_accuracy: 0.8259\n"
     ]
    },
    {
     "data": {
      "text/plain": [
       "<tensorflow.python.keras.callbacks.History at 0x7fa8e0763150>"
      ]
     },
     "execution_count": 13,
     "metadata": {},
     "output_type": "execute_result"
    }
   ],
   "source": [
    "model.fit(x_train, y_train, batch_size=32, epochs=5, validation_data=(x_val, y_val))"
   ]
  }
 ],
 "metadata": {
  "kernelspec": {
   "display_name": "Python 3",
   "language": "python",
   "name": "python3"
  },
  "language_info": {
   "codemirror_mode": {
    "name": "ipython",
    "version": 3
   },
   "file_extension": ".py",
   "mimetype": "text/x-python",
   "name": "python",
   "nbconvert_exporter": "python",
   "pygments_lexer": "ipython3",
   "version": "3.7.6"
  },
  "papermill": {
   "duration": 19168.083169,
   "end_time": "2021-01-31T20:10:39.227859",
   "environment_variables": {},
   "exception": null,
   "input_path": "__notebook__.ipynb",
   "output_path": "__notebook__.ipynb",
   "parameters": {},
   "start_time": "2021-01-31T14:51:11.144690",
   "version": "2.1.0"
  }
 },
 "nbformat": 4,
 "nbformat_minor": 4
}

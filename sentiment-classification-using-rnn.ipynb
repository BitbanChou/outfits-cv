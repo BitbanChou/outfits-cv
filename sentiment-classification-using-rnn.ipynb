{
 "cells": [
  {
   "cell_type": "code",
   "execution_count": 4,
   "id": "imported-vault",
   "metadata": {
    "execution": {
     "iopub.execute_input": "2021-06-20T03:15:38.365985Z",
     "iopub.status.busy": "2021-06-20T03:15:38.365125Z",
     "iopub.status.idle": "2021-06-20T03:15:43.592284Z",
     "shell.execute_reply": "2021-06-20T03:15:43.592768Z",
     "shell.execute_reply.started": "2021-06-20T02:37:55.472561Z"
    },
    "papermill": {
     "duration": 5.273652,
     "end_time": "2021-06-20T03:15:43.592940",
     "exception": false,
     "start_time": "2021-06-20T03:15:38.319288",
     "status": "completed"
    },
    "tags": []
   },
   "outputs": [],
   "source": [
    "import numpy as np # linear algebra\n",
    "import pandas as pd # data processing, CSV file I/O (e.g. pd.read_csv)\n",
    "\n",
    "# Input data files are available in the read-only \"../input/\" directory\n",
    "# For example, running this (by clicking run or pressing Shift+Enter) will list all files under the input directory\n",
    "\n",
    "import os\n",
    "import matplotlib.pyplot as plt\n",
    "import tensorflow as tf\n",
    "\n",
    "from tensorflow.keras.preprocessing.text import Tokenizer\n",
    "#from keras.preprocessing.text import Tokenizer\n",
    "from keras.preprocessing.sequence import pad_sequences"
   ]
  },
  {
   "cell_type": "code",
   "execution_count": 5,
   "id": "unauthorized-herald",
   "metadata": {
    "execution": {
     "iopub.execute_input": "2021-06-20T03:15:45.455152Z",
     "iopub.status.busy": "2021-06-20T03:15:45.454388Z",
     "iopub.status.idle": "2021-06-20T03:15:45.457609Z",
     "shell.execute_reply": "2021-06-20T03:15:45.458074Z",
     "shell.execute_reply.started": "2021-06-20T02:37:57.064542Z"
    },
    "papermill": {
     "duration": 1.838525,
     "end_time": "2021-06-20T03:15:45.458225",
     "exception": false,
     "start_time": "2021-06-20T03:15:43.619700",
     "status": "completed"
    },
    "tags": []
   },
   "outputs": [
    {
     "name": "stdout",
     "output_type": "stream",
     "text": [
      "TF version:  2.19.0\n",
      "Eager execution enabled by default.\n",
      "Please install GPU version of TF\n"
     ]
    }
   ],
   "source": [
    "print(\"TF version: \", tf.__version__)\n",
    "if tf.__version__ < \"2.0.0\":\n",
    "    tf.enable_eager_execution()\n",
    "    print(\"Eager execution enabled.\")\n",
    "else:\n",
    "    print(\"Eager execution enabled by default.\")\n",
    "\n",
    "if tf.test.gpu_device_name(): \n",
    "    print('Default GPU Device: {}'.format(tf.test.gpu_device_name()))\n",
    "else:\n",
    "   print(\"Please install GPU version of TF\")"
   ]
  },
  {
   "cell_type": "code",
   "execution_count": 6,
   "id": "bearing-groove",
   "metadata": {
    "execution": {
     "iopub.execute_input": "2021-06-20T03:15:45.513399Z",
     "iopub.status.busy": "2021-06-20T03:15:45.512761Z",
     "iopub.status.idle": "2021-06-20T03:15:45.773472Z",
     "shell.execute_reply": "2021-06-20T03:15:45.772928Z",
     "shell.execute_reply.started": "2021-06-20T02:37:57.702640Z"
    },
    "papermill": {
     "duration": 0.289755,
     "end_time": "2021-06-20T03:15:45.773626",
     "exception": false,
     "start_time": "2021-06-20T03:15:45.483871",
     "status": "completed"
    },
    "tags": []
   },
   "outputs": [
    {
     "data": {
      "text/html": [
       "<div>\n",
       "<style scoped>\n",
       "    .dataframe tbody tr th:only-of-type {\n",
       "        vertical-align: middle;\n",
       "    }\n",
       "\n",
       "    .dataframe tbody tr th {\n",
       "        vertical-align: top;\n",
       "    }\n",
       "\n",
       "    .dataframe thead th {\n",
       "        text-align: right;\n",
       "    }\n",
       "</style>\n",
       "<table border=\"1\" class=\"dataframe\">\n",
       "  <thead>\n",
       "    <tr style=\"text-align: right;\">\n",
       "      <th></th>\n",
       "      <th>PhraseId</th>\n",
       "      <th>SentenceId</th>\n",
       "      <th>Phrase</th>\n",
       "      <th>Sentiment</th>\n",
       "    </tr>\n",
       "  </thead>\n",
       "  <tbody>\n",
       "    <tr>\n",
       "      <th>0</th>\n",
       "      <td>1</td>\n",
       "      <td>1</td>\n",
       "      <td>A series of escapades demonstrating the adage ...</td>\n",
       "      <td>1</td>\n",
       "    </tr>\n",
       "    <tr>\n",
       "      <th>1</th>\n",
       "      <td>2</td>\n",
       "      <td>1</td>\n",
       "      <td>A series of escapades demonstrating the adage ...</td>\n",
       "      <td>2</td>\n",
       "    </tr>\n",
       "    <tr>\n",
       "      <th>2</th>\n",
       "      <td>3</td>\n",
       "      <td>1</td>\n",
       "      <td>A series</td>\n",
       "      <td>2</td>\n",
       "    </tr>\n",
       "    <tr>\n",
       "      <th>3</th>\n",
       "      <td>4</td>\n",
       "      <td>1</td>\n",
       "      <td>A</td>\n",
       "      <td>2</td>\n",
       "    </tr>\n",
       "    <tr>\n",
       "      <th>4</th>\n",
       "      <td>5</td>\n",
       "      <td>1</td>\n",
       "      <td>series</td>\n",
       "      <td>2</td>\n",
       "    </tr>\n",
       "  </tbody>\n",
       "</table>\n",
       "</div>"
      ],
      "text/plain": [
       "   PhraseId  SentenceId                                             Phrase  \\\n",
       "0         1           1  A series of escapades demonstrating the adage ...   \n",
       "1         2           1  A series of escapades demonstrating the adage ...   \n",
       "2         3           1                                           A series   \n",
       "3         4           1                                                  A   \n",
       "4         5           1                                             series   \n",
       "\n",
       "   Sentiment  \n",
       "0          1  \n",
       "1          2  \n",
       "2          2  \n",
       "3          2  \n",
       "4          2  "
      ]
     },
     "execution_count": 6,
     "metadata": {},
     "output_type": "execute_result"
    }
   ],
   "source": [
    "train_data = pd.read_csv('./train.tsv.zip', sep = '\\t')\n",
    "train_data.head()"
   ]
  },
  {
   "cell_type": "code",
   "execution_count": 7,
   "id": "curious-gospel",
   "metadata": {
    "execution": {
     "iopub.execute_input": "2021-06-20T03:15:45.843162Z",
     "iopub.status.busy": "2021-06-20T03:15:45.842422Z",
     "iopub.status.idle": "2021-06-20T03:15:45.856651Z",
     "shell.execute_reply": "2021-06-20T03:15:45.857216Z",
     "shell.execute_reply.started": "2021-06-20T02:37:57.885855Z"
    },
    "papermill": {
     "duration": 0.057545,
     "end_time": "2021-06-20T03:15:45.857414",
     "exception": false,
     "start_time": "2021-06-20T03:15:45.799869",
     "status": "completed"
    },
    "tags": []
   },
   "outputs": [
    {
     "name": "stdout",
     "output_type": "stream",
     "text": [
      "<class 'pandas.core.frame.DataFrame'>\n",
      "RangeIndex: 156060 entries, 0 to 156059\n",
      "Data columns (total 4 columns):\n",
      " #   Column      Non-Null Count   Dtype \n",
      "---  ------      --------------   ----- \n",
      " 0   PhraseId    156060 non-null  int64 \n",
      " 1   SentenceId  156060 non-null  int64 \n",
      " 2   Phrase      156060 non-null  object\n",
      " 3   Sentiment   156060 non-null  int64 \n",
      "dtypes: int64(3), object(1)\n",
      "memory usage: 4.8+ MB\n"
     ]
    }
   ],
   "source": [
    "train_data.info()"
   ]
  },
  {
   "cell_type": "code",
   "execution_count": 8,
   "id": "arranged-manner",
   "metadata": {
    "execution": {
     "iopub.execute_input": "2021-06-20T03:15:45.914695Z",
     "iopub.status.busy": "2021-06-20T03:15:45.914102Z",
     "iopub.status.idle": "2021-06-20T03:15:45.918805Z",
     "shell.execute_reply": "2021-06-20T03:15:45.919202Z",
     "shell.execute_reply.started": "2021-06-20T02:37:57.918808Z"
    },
    "papermill": {
     "duration": 0.034516,
     "end_time": "2021-06-20T03:15:45.919349",
     "exception": false,
     "start_time": "2021-06-20T03:15:45.884833",
     "status": "completed"
    },
    "tags": []
   },
   "outputs": [
    {
     "data": {
      "text/plain": [
       "(156060, 4)"
      ]
     },
     "execution_count": 8,
     "metadata": {},
     "output_type": "execute_result"
    }
   ],
   "source": [
    "train_data.shape"
   ]
  },
  {
   "cell_type": "code",
   "execution_count": 9,
   "id": "historical-regular",
   "metadata": {
    "execution": {
     "iopub.execute_input": "2021-06-20T03:15:45.976118Z",
     "iopub.status.busy": "2021-06-20T03:15:45.975530Z",
     "iopub.status.idle": "2021-06-20T03:15:46.062293Z",
     "shell.execute_reply": "2021-06-20T03:15:46.062811Z",
     "shell.execute_reply.started": "2021-06-20T02:37:57.930724Z"
    },
    "papermill": {
     "duration": 0.116964,
     "end_time": "2021-06-20T03:15:46.062968",
     "exception": false,
     "start_time": "2021-06-20T03:15:45.946004",
     "status": "completed"
    },
    "tags": []
   },
   "outputs": [
    {
     "data": {
      "text/html": [
       "<div>\n",
       "<style scoped>\n",
       "    .dataframe tbody tr th:only-of-type {\n",
       "        vertical-align: middle;\n",
       "    }\n",
       "\n",
       "    .dataframe tbody tr th {\n",
       "        vertical-align: top;\n",
       "    }\n",
       "\n",
       "    .dataframe thead th {\n",
       "        text-align: right;\n",
       "    }\n",
       "</style>\n",
       "<table border=\"1\" class=\"dataframe\">\n",
       "  <thead>\n",
       "    <tr style=\"text-align: right;\">\n",
       "      <th></th>\n",
       "      <th>PhraseId</th>\n",
       "      <th>SentenceId</th>\n",
       "      <th>Phrase</th>\n",
       "    </tr>\n",
       "  </thead>\n",
       "  <tbody>\n",
       "    <tr>\n",
       "      <th>0</th>\n",
       "      <td>156061</td>\n",
       "      <td>8545</td>\n",
       "      <td>An intermittently pleasing but mostly routine ...</td>\n",
       "    </tr>\n",
       "    <tr>\n",
       "      <th>1</th>\n",
       "      <td>156062</td>\n",
       "      <td>8545</td>\n",
       "      <td>An intermittently pleasing but mostly routine ...</td>\n",
       "    </tr>\n",
       "    <tr>\n",
       "      <th>2</th>\n",
       "      <td>156063</td>\n",
       "      <td>8545</td>\n",
       "      <td>An</td>\n",
       "    </tr>\n",
       "    <tr>\n",
       "      <th>3</th>\n",
       "      <td>156064</td>\n",
       "      <td>8545</td>\n",
       "      <td>intermittently pleasing but mostly routine effort</td>\n",
       "    </tr>\n",
       "    <tr>\n",
       "      <th>4</th>\n",
       "      <td>156065</td>\n",
       "      <td>8545</td>\n",
       "      <td>intermittently pleasing but mostly routine</td>\n",
       "    </tr>\n",
       "  </tbody>\n",
       "</table>\n",
       "</div>"
      ],
      "text/plain": [
       "   PhraseId  SentenceId                                             Phrase\n",
       "0    156061        8545  An intermittently pleasing but mostly routine ...\n",
       "1    156062        8545  An intermittently pleasing but mostly routine ...\n",
       "2    156063        8545                                                 An\n",
       "3    156064        8545  intermittently pleasing but mostly routine effort\n",
       "4    156065        8545         intermittently pleasing but mostly routine"
      ]
     },
     "execution_count": 9,
     "metadata": {},
     "output_type": "execute_result"
    }
   ],
   "source": [
    "test_data = pd.read_csv('./test.tsv.zip',sep = '\\t')\n",
    "test_data.head()"
   ]
  },
  {
   "cell_type": "code",
   "execution_count": 18,
   "id": "smooth-delay",
   "metadata": {
    "execution": {
     "iopub.execute_input": "2021-06-20T03:15:46.128737Z",
     "iopub.status.busy": "2021-06-20T03:15:46.127933Z",
     "iopub.status.idle": "2021-06-20T03:15:46.136450Z",
     "shell.execute_reply": "2021-06-20T03:15:46.136899Z",
     "shell.execute_reply.started": "2021-06-20T02:37:58.007147Z"
    },
    "papermill": {
     "duration": 0.046535,
     "end_time": "2021-06-20T03:15:46.137033",
     "exception": false,
     "start_time": "2021-06-20T03:15:46.090498",
     "status": "completed"
    },
    "tags": []
   },
   "outputs": [
    {
     "name": "stdout",
     "output_type": "stream",
     "text": [
      "(66292, 3)\n",
      "<class 'pandas.core.frame.DataFrame'>\n",
      "RangeIndex: 66292 entries, 0 to 66291\n",
      "Data columns (total 3 columns):\n",
      " #   Column      Non-Null Count  Dtype \n",
      "---  ------      --------------  ----- \n",
      " 0   PhraseId    66292 non-null  int64 \n",
      " 1   SentenceId  66292 non-null  int64 \n",
      " 2   Phrase      66291 non-null  object\n",
      "dtypes: int64(2), object(1)\n",
      "memory usage: 1.5+ MB\n"
     ]
    }
   ],
   "source": [
    "print(test_data.shape)\n",
    "test_data.info()"
   ]
  },
  {
   "cell_type": "code",
   "execution_count": 17,
   "id": "palestinian-rainbow",
   "metadata": {
    "execution": {
     "iopub.execute_input": "2021-06-20T03:15:46.198103Z",
     "iopub.status.busy": "2021-06-20T03:15:46.197399Z",
     "iopub.status.idle": "2021-06-20T03:15:46.200928Z",
     "shell.execute_reply": "2021-06-20T03:15:46.200500Z",
     "shell.execute_reply.started": "2021-06-20T02:37:58.025756Z"
    },
    "papermill": {
     "duration": 0.034881,
     "end_time": "2021-06-20T03:15:46.201065",
     "exception": false,
     "start_time": "2021-06-20T03:15:46.166184",
     "status": "completed"
    },
    "tags": []
   },
   "outputs": [
    {
     "data": {
      "text/plain": [
       "Index(['PhraseId', 'SentenceId', 'Phrase', 'Sentiment'], dtype='object')"
      ]
     },
     "execution_count": 17,
     "metadata": {},
     "output_type": "execute_result"
    }
   ],
   "source": [
    "train_data.columns"
   ]
  },
  {
   "cell_type": "code",
   "execution_count": 16,
   "id": "shared-latvia",
   "metadata": {
    "execution": {
     "iopub.execute_input": "2021-06-20T03:15:46.261804Z",
     "iopub.status.busy": "2021-06-20T03:15:46.260819Z",
     "iopub.status.idle": "2021-06-20T03:15:46.270063Z",
     "shell.execute_reply": "2021-06-20T03:15:46.269447Z",
     "shell.execute_reply.started": "2021-06-20T02:37:58.035917Z"
    },
    "papermill": {
     "duration": 0.041426,
     "end_time": "2021-06-20T03:15:46.270246",
     "exception": false,
     "start_time": "2021-06-20T03:15:46.228820",
     "status": "completed"
    },
    "tags": []
   },
   "outputs": [
    {
     "name": "stdout",
     "output_type": "stream",
     "text": [
      "[1 2 3 4 0]\n"
     ]
    },
    {
     "data": {
      "text/plain": [
       "5"
      ]
     },
     "execution_count": 16,
     "metadata": {},
     "output_type": "execute_result"
    }
   ],
   "source": [
    "print(train_data['Sentiment'].unique())\n",
    "train_data['Sentiment'].nunique()"
   ]
  },
  {
   "cell_type": "code",
   "execution_count": 15,
   "id": "filled-eating",
   "metadata": {
    "execution": {
     "iopub.execute_input": "2021-06-20T03:15:46.331526Z",
     "iopub.status.busy": "2021-06-20T03:15:46.330703Z",
     "iopub.status.idle": "2021-06-20T03:15:46.337950Z",
     "shell.execute_reply": "2021-06-20T03:15:46.337534Z",
     "shell.execute_reply.started": "2021-06-20T02:37:58.048420Z"
    },
    "papermill": {
     "duration": 0.038929,
     "end_time": "2021-06-20T03:15:46.338061",
     "exception": false,
     "start_time": "2021-06-20T03:15:46.299132",
     "status": "completed"
    },
    "tags": []
   },
   "outputs": [
    {
     "data": {
      "text/plain": [
       "Sentiment\n",
       "2    79582\n",
       "3    32927\n",
       "1    27273\n",
       "4     9206\n",
       "0     7072\n",
       "Name: count, dtype: int64"
      ]
     },
     "execution_count": 15,
     "metadata": {},
     "output_type": "execute_result"
    }
   ],
   "source": [
    "train_data['Sentiment'].value_counts()"
   ]
  },
  {
   "cell_type": "code",
   "execution_count": 21,
   "id": "surgical-world",
   "metadata": {
    "execution": {
     "iopub.execute_input": "2021-06-20T03:16:37.995081Z",
     "iopub.status.busy": "2021-06-20T03:16:37.994518Z",
     "iopub.status.idle": "2021-06-20T03:16:38.409385Z",
     "shell.execute_reply": "2021-06-20T03:16:38.408759Z",
     "shell.execute_reply.started": "2021-06-20T02:38:47.543337Z"
    },
    "papermill": {
     "duration": 0.45343,
     "end_time": "2021-06-20T03:16:38.409523",
     "exception": false,
     "start_time": "2021-06-20T03:16:37.956093",
     "status": "completed"
    },
    "tags": []
   },
   "outputs": [],
   "source": [
    "from tqdm import tqdm\n",
    "\n",
    "import nltk\n",
    "from nltk.tokenize import word_tokenize\n",
    "from nltk.stem import WordNetLemmatizer\n",
    "from nltk.corpus import stopwords\n",
    "\n",
    "import re"
   ]
  },
  {
   "cell_type": "code",
   "execution_count": 27,
   "id": "nearby-clinton",
   "metadata": {
    "execution": {
     "iopub.execute_input": "2021-06-20T03:16:38.483777Z",
     "iopub.status.busy": "2021-06-20T03:16:38.482964Z",
     "iopub.status.idle": "2021-06-20T03:16:38.485114Z",
     "shell.execute_reply": "2021-06-20T03:16:38.485542Z",
     "shell.execute_reply.started": "2021-06-20T02:38:47.687858Z"
    },
    "papermill": {
     "duration": 0.042401,
     "end_time": "2021-06-20T03:16:38.485689",
     "exception": false,
     "start_time": "2021-06-20T03:16:38.443288",
     "status": "completed"
    },
    "tags": []
   },
   "outputs": [],
   "source": [
    "# def clean_sentences(df):\n",
    "    \n",
    "#     reviews = []\n",
    "#     for sent in tqdm(df['Phrase']):\n",
    "#         # removing non-alphabetical characters \n",
    "#         text = re.sub(\"[^a-zA-Z]\",\" \",sent)\n",
    "        \n",
    "#         # Now tokenizing the sentence : \n",
    "#         words = word_tokenize(text.lower())\n",
    "        \n",
    "#         #removing stop words :\n",
    "#         new_words = [ ele for ele in words if ele.lower() not in stopwords.words('english') ]\n",
    "        \n",
    "#         # Lemmatizing each word to its lemma\n",
    "#         lem = WordNetLemmatizer()\n",
    "#         lem_words = [lem.lemmatize(i) for i in new_words]\n",
    "        \n",
    "#         #finally\n",
    "#         reviews.append(lem_words)\n",
    "        \n",
    "#     return(reviews)\n",
    "\n",
    "def clean_sentences(df):\n",
    "    reviews = []\n",
    "    for sent in tqdm(df['Phrase']):\n",
    "        # 如果不是字符串，跳过或者处理成空字符串\n",
    "        if not isinstance(sent, str):\n",
    "            continue  # 或者用 reviews.append('') 来保留位置\n",
    "        # 去除非字母字符\n",
    "        text = re.sub(\"[^a-zA-Z]\", \" \", sent)\n",
    "        # 分词\n",
    "        words = word_tokenize(text.lower())\n",
    "        # 去除停用词（如果你有停用词表的话）\n",
    "        # new_words = [w for w in words if w not in stopwords.words('english')]\n",
    "        reviews.append(\" \".join(words))\n",
    "    return reviews\n"
   ]
  },
  {
   "cell_type": "code",
   "execution_count": 28,
   "id": "behind-smile",
   "metadata": {
    "execution": {
     "iopub.execute_input": "2021-06-20T03:16:38.558737Z",
     "iopub.status.busy": "2021-06-20T03:16:38.558071Z",
     "iopub.status.idle": "2021-06-20T03:20:13.541224Z",
     "shell.execute_reply": "2021-06-20T03:20:13.541843Z",
     "shell.execute_reply.started": "2021-06-20T02:38:47.695592Z"
    },
    "papermill": {
     "duration": 215.022718,
     "end_time": "2021-06-20T03:20:13.542011",
     "exception": false,
     "start_time": "2021-06-20T03:16:38.519293",
     "status": "completed"
    },
    "tags": []
   },
   "outputs": [
    {
     "name": "stderr",
     "output_type": "stream",
     "text": [
      "100%|██████████| 156060/156060 [00:06<00:00, 24942.02it/s]\n",
      "100%|██████████| 66292/66292 [00:02<00:00, 25420.27it/s]"
     ]
    },
    {
     "name": "stdout",
     "output_type": "stream",
     "text": [
      "156060\n",
      "66291\n"
     ]
    },
    {
     "name": "stderr",
     "output_type": "stream",
     "text": [
      "\n"
     ]
    }
   ],
   "source": [
    "#%%time\n",
    "train_sentences = clean_sentences(train_data)\n",
    "test_sentences = clean_sentences(test_data)\n",
    "\n",
    "print(len(train_sentences))\n",
    "print(len(test_sentences))"
   ]
  },
  {
   "cell_type": "code",
   "execution_count": 29,
   "id": "pleased-nudist",
   "metadata": {
    "execution": {
     "iopub.execute_input": "2021-06-20T03:20:14.611539Z",
     "iopub.status.busy": "2021-06-20T03:20:14.610860Z",
     "iopub.status.idle": "2021-06-20T03:20:14.614217Z",
     "shell.execute_reply": "2021-06-20T03:20:14.614921Z",
     "shell.execute_reply.started": "2021-06-20T02:42:17.257913Z"
    },
    "papermill": {
     "duration": 0.539172,
     "end_time": "2021-06-20T03:20:14.615125",
     "exception": false,
     "start_time": "2021-06-20T03:20:14.075953",
     "status": "completed"
    },
    "tags": []
   },
   "outputs": [
    {
     "name": "stdout",
     "output_type": "stream",
     "text": [
      "A series of escapades demonstrating the adage that what is good for the goose is also good for the gander , some of which occasionally amuses but none of which amounts to much of a story .\n",
      "a   s e r i e s   o f   e s c a p a d e s   d e m o n s t r a t i n g   t h e   a d a g e   t h a t   w h a t   i s   g o o d   f o r   t h e   g o o s e   i s   a l s o   g o o d   f o r   t h e   g a n d e r   s o m e   o f   w h i c h   o c c a s i o n a l l y   a m u s e s   b u t   n o n e   o f   w h i c h   a m o u n t s   t o   m u c h   o f   a   s t o r y\n"
     ]
    }
   ],
   "source": [
    "print(train_data['Phrase'][0])\n",
    "print((\" \").join(train_sentences[0]))"
   ]
  },
  {
   "cell_type": "code",
   "execution_count": 30,
   "id": "impossible-methodology",
   "metadata": {
    "execution": {
     "iopub.execute_input": "2021-06-20T03:20:15.949014Z",
     "iopub.status.busy": "2021-06-20T03:20:15.947985Z",
     "iopub.status.idle": "2021-06-20T03:20:15.952875Z",
     "shell.execute_reply": "2021-06-20T03:20:15.952454Z",
     "shell.execute_reply.started": "2021-06-20T02:42:17.265618Z"
    },
    "papermill": {
     "duration": 0.590231,
     "end_time": "2021-06-20T03:20:15.952991",
     "exception": false,
     "start_time": "2021-06-20T03:20:15.362760",
     "status": "completed"
    },
    "tags": []
   },
   "outputs": [],
   "source": [
    "from keras.utils import to_categorical\n",
    "\n",
    "y_target = to_categorical(train_data['Sentiment'].values)\n"
   ]
  },
  {
   "cell_type": "code",
   "execution_count": 19,
   "id": "cognitive-matrix",
   "metadata": {
    "execution": {
     "iopub.execute_input": "2021-06-20T03:20:17.021343Z",
     "iopub.status.busy": "2021-06-20T03:20:17.020684Z",
     "iopub.status.idle": "2021-06-20T03:20:17.023628Z",
     "shell.execute_reply": "2021-06-20T03:20:17.024045Z",
     "shell.execute_reply.started": "2021-06-20T02:42:17.279379Z"
    },
    "papermill": {
     "duration": 0.536196,
     "end_time": "2021-06-20T03:20:17.024179",
     "exception": false,
     "start_time": "2021-06-20T03:20:16.487983",
     "status": "completed"
    },
    "tags": []
   },
   "outputs": [
    {
     "data": {
      "text/plain": [
       "(156060, 5)"
      ]
     },
     "execution_count": 19,
     "metadata": {},
     "output_type": "execute_result"
    }
   ],
   "source": [
    "y_target.shape"
   ]
  },
  {
   "cell_type": "markdown",
   "id": "identified-showcase",
   "metadata": {
    "papermill": {
     "duration": 0.541662,
     "end_time": "2021-06-20T03:20:18.098925",
     "exception": false,
     "start_time": "2021-06-20T03:20:17.557263",
     "status": "completed"
    },
    "tags": []
   },
   "source": [
    "The sentiment labels are:\n",
    "\n",
    "0 - negative\n",
    "\n",
    "1 - somewhat negative\n",
    "\n",
    "2 - neutral\n",
    "\n",
    "3 - somewhat positive\n",
    "\n",
    "4 - positive\n",
    "\n",
    "Set Training & Validation set to 80/20"
   ]
  },
  {
   "cell_type": "code",
   "execution_count": 36,
   "id": "powerful-specialist",
   "metadata": {
    "execution": {
     "iopub.execute_input": "2021-06-20T03:20:19.164975Z",
     "iopub.status.busy": "2021-06-20T03:20:19.164077Z",
     "iopub.status.idle": "2021-06-20T03:20:20.628561Z",
     "shell.execute_reply": "2021-06-20T03:20:20.628067Z",
     "shell.execute_reply.started": "2021-06-20T02:42:17.288366Z"
    },
    "papermill": {
     "duration": 2.000114,
     "end_time": "2021-06-20T03:20:20.628684",
     "exception": false,
     "start_time": "2021-06-20T03:20:18.628570",
     "status": "completed"
    },
    "tags": []
   },
   "outputs": [],
   "source": [
    "from sklearn.model_selection import train_test_split\n",
    "\n",
    "X_train,X_val,y_train,y_val = train_test_split(train_sentences,y_target,test_size = 0.2,stratify = y_target)"
   ]
  },
  {
   "cell_type": "code",
   "execution_count": 37,
   "id": "passing-scientist",
   "metadata": {
    "execution": {
     "iopub.execute_input": "2021-06-20T03:20:21.696794Z",
     "iopub.status.busy": "2021-06-20T03:20:21.696096Z",
     "iopub.status.idle": "2021-06-20T03:20:21.700585Z",
     "shell.execute_reply": "2021-06-20T03:20:21.700146Z",
     "shell.execute_reply.started": "2021-06-20T02:42:18.708634Z"
    },
    "papermill": {
     "duration": 0.53652,
     "end_time": "2021-06-20T03:20:21.700697",
     "exception": false,
     "start_time": "2021-06-20T03:20:21.164177",
     "status": "completed"
    },
    "tags": []
   },
   "outputs": [
    {
     "data": {
      "text/plain": [
       "'of the world s reporters'"
      ]
     },
     "execution_count": 37,
     "metadata": {},
     "output_type": "execute_result"
    }
   ],
   "source": [
    "X_train[0]"
   ]
  },
  {
   "cell_type": "code",
   "execution_count": 38,
   "id": "interior-better",
   "metadata": {
    "execution": {
     "iopub.execute_input": "2021-06-20T03:20:22.795677Z",
     "iopub.status.busy": "2021-06-20T03:20:22.794859Z",
     "iopub.status.idle": "2021-06-20T03:20:22.979992Z",
     "shell.execute_reply": "2021-06-20T03:20:22.978276Z",
     "shell.execute_reply.started": "2021-06-20T02:42:18.716355Z"
    },
    "papermill": {
     "duration": 0.734303,
     "end_time": "2021-06-20T03:20:22.980150",
     "exception": false,
     "start_time": "2021-06-20T03:20:22.245847",
     "status": "completed"
    },
    "tags": []
   },
   "outputs": [
    {
     "name": "stderr",
     "output_type": "stream",
     "text": [
      "100%|██████████| 124848/124848 [00:00<00:00, 1383444.82it/s]"
     ]
    },
    {
     "name": "stdout",
     "output_type": "stream",
     "text": [
      "Words in vocab :  27\n",
      "Max_length :  258\n"
     ]
    },
    {
     "name": "stderr",
     "output_type": "stream",
     "text": [
      "\n"
     ]
    }
   ],
   "source": [
    "unique_words = set()\n",
    "len_max = -1\n",
    "\n",
    "for sent in tqdm(X_train):\n",
    "    unique_words.update(sent)\n",
    "    if(len_max < len(sent)):\n",
    "        len_max = len(sent)\n",
    "\n",
    "print('Words in vocab : ' , len(list(unique_words)))\n",
    "print('Max_length : ' , len_max)"
   ]
  },
  {
   "cell_type": "markdown",
   "id": "interim-blogger",
   "metadata": {
    "papermill": {
     "duration": 0.540265,
     "end_time": "2021-06-20T03:20:24.065472",
     "exception": false,
     "start_time": "2021-06-20T03:20:23.525207",
     "status": "completed"
    },
    "tags": []
   },
   "source": [
    "Now tokenizing the data set :"
   ]
  },
  {
   "cell_type": "code",
   "execution_count": 39,
   "id": "bibliographic-hierarchy",
   "metadata": {
    "execution": {
     "iopub.execute_input": "2021-06-20T03:20:25.153179Z",
     "iopub.status.busy": "2021-06-20T03:20:25.152213Z",
     "iopub.status.idle": "2021-06-20T03:20:25.155056Z",
     "shell.execute_reply": "2021-06-20T03:20:25.154577Z",
     "shell.execute_reply.started": "2021-06-20T02:42:18.902733Z"
    },
    "papermill": {
     "duration": 0.548246,
     "end_time": "2021-06-20T03:20:25.155189",
     "exception": false,
     "start_time": "2021-06-20T03:20:24.606943",
     "status": "completed"
    },
    "tags": []
   },
   "outputs": [],
   "source": [
    "vocab_size = len(list(unique_words))\n",
    "embedding_dim = 300\n",
    "max_length = len_max\n",
    "trunc_type = 'post'\n",
    "padding_type = 'post'\n",
    "oov_tok = '<OOV>'"
   ]
  },
  {
   "cell_type": "code",
   "execution_count": 40,
   "id": "regular-marker",
   "metadata": {
    "execution": {
     "iopub.execute_input": "2021-06-20T03:20:26.583232Z",
     "iopub.status.busy": "2021-06-20T03:20:26.578077Z",
     "iopub.status.idle": "2021-06-20T03:20:29.513737Z",
     "shell.execute_reply": "2021-06-20T03:20:29.513093Z",
     "shell.execute_reply.started": "2021-06-20T02:42:18.910381Z"
    },
    "papermill": {
     "duration": 3.783742,
     "end_time": "2021-06-20T03:20:29.513921",
     "exception": false,
     "start_time": "2021-06-20T03:20:25.730179",
     "status": "completed"
    },
    "tags": []
   },
   "outputs": [
    {
     "name": "stdout",
     "output_type": "stream",
     "text": [
      "CPU times: total: 3.09 s\n",
      "Wall time: 3.18 s\n"
     ]
    }
   ],
   "source": [
    "%%time\n",
    "tokenizer = Tokenizer(num_words = vocab_size,\n",
    "                      # filters = '#$%&()*+,-./:;<=>?@[\\\\]^_`{|}~\\t\\n',\n",
    "                      oov_token = oov_tok,\n",
    "                      # lower = True,\n",
    "                      char_level = False)\n",
    "\n",
    "tokenizer.fit_on_texts(list(X_train))\n",
    "\n",
    "# Training\n",
    "X_train = tokenizer.texts_to_sequences(X_train)\n",
    "X_train = pad_sequences(X_train,\n",
    "                        maxlen = max_length,\n",
    "                        padding = padding_type,\n",
    "                        truncating = trunc_type)\n",
    "\n",
    "# Validation\n",
    "X_val = tokenizer.texts_to_sequences(X_val)\n",
    "X_val = pad_sequences(X_val,\n",
    "                      maxlen = max_length,\n",
    "                      padding = padding_type,\n",
    "                      truncating = trunc_type)\n",
    "\n",
    "# Testing\n",
    "X_test = tokenizer.texts_to_sequences(test_sentences)\n",
    "X_test = pad_sequences(X_test,\n",
    "                       maxlen = max_length,\n",
    "                       padding = padding_type,\n",
    "                       truncating = trunc_type)"
   ]
  },
  {
   "cell_type": "code",
   "execution_count": 41,
   "id": "neutral-leeds",
   "metadata": {
    "execution": {
     "iopub.execute_input": "2021-06-20T03:20:31.075341Z",
     "iopub.status.busy": "2021-06-20T03:20:31.074380Z",
     "iopub.status.idle": "2021-06-20T03:20:31.078008Z",
     "shell.execute_reply": "2021-06-20T03:20:31.078624Z",
     "shell.execute_reply.started": "2021-06-20T02:42:21.658913Z"
    },
    "papermill": {
     "duration": 0.918532,
     "end_time": "2021-06-20T03:20:31.078818",
     "exception": false,
     "start_time": "2021-06-20T03:20:30.160286",
     "status": "completed"
    },
    "tags": []
   },
   "outputs": [
    {
     "name": "stdout",
     "output_type": "stream",
     "text": [
      "X_training shape   :  (124848, 258)\n",
      "X_validation shape :  (31212, 258)\n",
      "X_testing shape    :  (66291, 258)\n"
     ]
    }
   ],
   "source": [
    "print(\"X_training shape   : \",X_train.shape)\n",
    "print(\"X_validation shape : \",X_val.shape)\n",
    "print(\"X_testing shape    : \",X_test.shape)"
   ]
  },
  {
   "cell_type": "code",
   "execution_count": 26,
   "id": "adopted-forty",
   "metadata": {
    "execution": {
     "iopub.execute_input": "2021-06-20T03:20:32.253477Z",
     "iopub.status.busy": "2021-06-20T03:20:32.252684Z",
     "iopub.status.idle": "2021-06-20T03:20:32.256190Z",
     "shell.execute_reply": "2021-06-20T03:20:32.256806Z",
     "shell.execute_reply.started": "2021-06-20T02:42:21.667002Z"
    },
    "papermill": {
     "duration": 0.581382,
     "end_time": "2021-06-20T03:20:32.257006",
     "exception": false,
     "start_time": "2021-06-20T03:20:31.675624",
     "status": "completed"
    },
    "tags": []
   },
   "outputs": [
    {
     "name": "stdout",
     "output_type": "stream",
     "text": [
      "[996   0   0   0   0   0   0   0   0   0   0   0   0   0   0   0   0   0\n",
      "   0   0   0   0   0   0   0   0   0   0   0   0]\n"
     ]
    }
   ],
   "source": [
    "print(X_train[2])"
   ]
  },
  {
   "cell_type": "code",
   "execution_count": 43,
   "id": "crude-central",
   "metadata": {
    "execution": {
     "iopub.execute_input": "2021-06-20T03:20:33.370793Z",
     "iopub.status.busy": "2021-06-20T03:20:33.370171Z",
     "iopub.status.idle": "2021-06-20T03:20:33.374913Z",
     "shell.execute_reply": "2021-06-20T03:20:33.374404Z",
     "shell.execute_reply.started": "2021-06-20T02:42:21.676507Z"
    },
    "papermill": {
     "duration": 0.566826,
     "end_time": "2021-06-20T03:20:33.375048",
     "exception": false,
     "start_time": "2021-06-20T03:20:32.808222",
     "status": "completed"
    },
    "tags": []
   },
   "outputs": [],
   "source": [
    "# from keras.models import Sequential\n",
    "# from keras.layers import Dense,Bidirectional,LSTM,Activation,Conv1D,MaxPool1D,Dropout\n",
    "# from keras.layers.embeddings import Embedding\n",
    "\n",
    "from tensorflow.keras.models import Sequential\n",
    "from tensorflow.keras.layers import Dense, Bidirectional, LSTM, Activation, Conv1D, MaxPool1D, Dropout, Embedding"
   ]
  },
  {
   "cell_type": "code",
   "execution_count": 44,
   "id": "controversial-appointment",
   "metadata": {
    "execution": {
     "iopub.execute_input": "2021-06-20T03:20:34.509504Z",
     "iopub.status.busy": "2021-06-20T03:20:34.508885Z",
     "iopub.status.idle": "2021-06-20T03:20:35.508176Z",
     "shell.execute_reply": "2021-06-20T03:20:35.507527Z",
     "shell.execute_reply.started": "2021-06-20T02:42:21.684921Z"
    },
    "papermill": {
     "duration": 1.579052,
     "end_time": "2021-06-20T03:20:35.508331",
     "exception": false,
     "start_time": "2021-06-20T03:20:33.929279",
     "status": "completed"
    },
    "tags": []
   },
   "outputs": [
    {
     "name": "stderr",
     "output_type": "stream",
     "text": [
      "d:\\python3105\\lib\\site-packages\\keras\\src\\layers\\core\\embedding.py:97: UserWarning: Argument `input_length` is deprecated. Just remove it.\n",
      "  warnings.warn(\n"
     ]
    },
    {
     "data": {
      "text/html": [
       "<pre style=\"white-space:pre;overflow-x:auto;line-height:normal;font-family:Menlo,'DejaVu Sans Mono',consolas,'Courier New',monospace\"><span style=\"font-weight: bold\">Model: \"sequential\"</span>\n",
       "</pre>\n"
      ],
      "text/plain": [
       "\u001b[1mModel: \"sequential\"\u001b[0m\n"
      ]
     },
     "metadata": {},
     "output_type": "display_data"
    },
    {
     "data": {
      "text/html": [
       "<pre style=\"white-space:pre;overflow-x:auto;line-height:normal;font-family:Menlo,'DejaVu Sans Mono',consolas,'Courier New',monospace\">┏━━━━━━━━━━━━━━━━━━━━━━━━━━━━━━━━━┳━━━━━━━━━━━━━━━━━━━━━━━━┳━━━━━━━━━━━━━━━┓\n",
       "┃<span style=\"font-weight: bold\"> Layer (type)                    </span>┃<span style=\"font-weight: bold\"> Output Shape           </span>┃<span style=\"font-weight: bold\">       Param # </span>┃\n",
       "┡━━━━━━━━━━━━━━━━━━━━━━━━━━━━━━━━━╇━━━━━━━━━━━━━━━━━━━━━━━━╇━━━━━━━━━━━━━━━┩\n",
       "│ embedding (<span style=\"color: #0087ff; text-decoration-color: #0087ff\">Embedding</span>)           │ ?                      │   <span style=\"color: #00af00; text-decoration-color: #00af00\">0</span> (unbuilt) │\n",
       "├─────────────────────────────────┼────────────────────────┼───────────────┤\n",
       "│ bidirectional (<span style=\"color: #0087ff; text-decoration-color: #0087ff\">Bidirectional</span>)   │ ?                      │   <span style=\"color: #00af00; text-decoration-color: #00af00\">0</span> (unbuilt) │\n",
       "├─────────────────────────────────┼────────────────────────┼───────────────┤\n",
       "│ bidirectional_1 (<span style=\"color: #0087ff; text-decoration-color: #0087ff\">Bidirectional</span>) │ ?                      │   <span style=\"color: #00af00; text-decoration-color: #00af00\">0</span> (unbuilt) │\n",
       "├─────────────────────────────────┼────────────────────────┼───────────────┤\n",
       "│ dense (<span style=\"color: #0087ff; text-decoration-color: #0087ff\">Dense</span>)                   │ ?                      │   <span style=\"color: #00af00; text-decoration-color: #00af00\">0</span> (unbuilt) │\n",
       "├─────────────────────────────────┼────────────────────────┼───────────────┤\n",
       "│ dense_1 (<span style=\"color: #0087ff; text-decoration-color: #0087ff\">Dense</span>)                 │ ?                      │   <span style=\"color: #00af00; text-decoration-color: #00af00\">0</span> (unbuilt) │\n",
       "└─────────────────────────────────┴────────────────────────┴───────────────┘\n",
       "</pre>\n"
      ],
      "text/plain": [
       "┏━━━━━━━━━━━━━━━━━━━━━━━━━━━━━━━━━┳━━━━━━━━━━━━━━━━━━━━━━━━┳━━━━━━━━━━━━━━━┓\n",
       "┃\u001b[1m \u001b[0m\u001b[1mLayer (type)                   \u001b[0m\u001b[1m \u001b[0m┃\u001b[1m \u001b[0m\u001b[1mOutput Shape          \u001b[0m\u001b[1m \u001b[0m┃\u001b[1m \u001b[0m\u001b[1m      Param #\u001b[0m\u001b[1m \u001b[0m┃\n",
       "┡━━━━━━━━━━━━━━━━━━━━━━━━━━━━━━━━━╇━━━━━━━━━━━━━━━━━━━━━━━━╇━━━━━━━━━━━━━━━┩\n",
       "│ embedding (\u001b[38;5;33mEmbedding\u001b[0m)           │ ?                      │   \u001b[38;5;34m0\u001b[0m (unbuilt) │\n",
       "├─────────────────────────────────┼────────────────────────┼───────────────┤\n",
       "│ bidirectional (\u001b[38;5;33mBidirectional\u001b[0m)   │ ?                      │   \u001b[38;5;34m0\u001b[0m (unbuilt) │\n",
       "├─────────────────────────────────┼────────────────────────┼───────────────┤\n",
       "│ bidirectional_1 (\u001b[38;5;33mBidirectional\u001b[0m) │ ?                      │   \u001b[38;5;34m0\u001b[0m (unbuilt) │\n",
       "├─────────────────────────────────┼────────────────────────┼───────────────┤\n",
       "│ dense (\u001b[38;5;33mDense\u001b[0m)                   │ ?                      │   \u001b[38;5;34m0\u001b[0m (unbuilt) │\n",
       "├─────────────────────────────────┼────────────────────────┼───────────────┤\n",
       "│ dense_1 (\u001b[38;5;33mDense\u001b[0m)                 │ ?                      │   \u001b[38;5;34m0\u001b[0m (unbuilt) │\n",
       "└─────────────────────────────────┴────────────────────────┴───────────────┘\n"
      ]
     },
     "metadata": {},
     "output_type": "display_data"
    },
    {
     "data": {
      "text/html": [
       "<pre style=\"white-space:pre;overflow-x:auto;line-height:normal;font-family:Menlo,'DejaVu Sans Mono',consolas,'Courier New',monospace\"><span style=\"font-weight: bold\"> Total params: </span><span style=\"color: #00af00; text-decoration-color: #00af00\">0</span> (0.00 B)\n",
       "</pre>\n"
      ],
      "text/plain": [
       "\u001b[1m Total params: \u001b[0m\u001b[38;5;34m0\u001b[0m (0.00 B)\n"
      ]
     },
     "metadata": {},
     "output_type": "display_data"
    },
    {
     "data": {
      "text/html": [
       "<pre style=\"white-space:pre;overflow-x:auto;line-height:normal;font-family:Menlo,'DejaVu Sans Mono',consolas,'Courier New',monospace\"><span style=\"font-weight: bold\"> Trainable params: </span><span style=\"color: #00af00; text-decoration-color: #00af00\">0</span> (0.00 B)\n",
       "</pre>\n"
      ],
      "text/plain": [
       "\u001b[1m Trainable params: \u001b[0m\u001b[38;5;34m0\u001b[0m (0.00 B)\n"
      ]
     },
     "metadata": {},
     "output_type": "display_data"
    },
    {
     "data": {
      "text/html": [
       "<pre style=\"white-space:pre;overflow-x:auto;line-height:normal;font-family:Menlo,'DejaVu Sans Mono',consolas,'Courier New',monospace\"><span style=\"font-weight: bold\"> Non-trainable params: </span><span style=\"color: #00af00; text-decoration-color: #00af00\">0</span> (0.00 B)\n",
       "</pre>\n"
      ],
      "text/plain": [
       "\u001b[1m Non-trainable params: \u001b[0m\u001b[38;5;34m0\u001b[0m (0.00 B)\n"
      ]
     },
     "metadata": {},
     "output_type": "display_data"
    }
   ],
   "source": [
    "model = Sequential()\n",
    "model.add(Embedding(vocab_size,embedding_dim,input_length = max_length))\n",
    "model.add(Bidirectional(LSTM(128,dropout = 0.2, recurrent_dropout = 0.2, return_sequences=True)))\n",
    "model.add(Bidirectional(LSTM(64, dropout = 0.2, recurrent_dropout = 0.2, return_sequences=False)))\n",
    "model.add(Dense(128,activation = 'relu'))\n",
    "model.add(Dense(y_target.shape[1],activation = 'softmax'))\n",
    "\n",
    "model.compile(loss = 'categorical_crossentropy',\n",
    "             optimizer = 'adam',\n",
    "             metrics = ['accuracy'])\n",
    "\n",
    "model.summary()"
   ]
  },
  {
   "cell_type": "code",
   "execution_count": 45,
   "id": "eligible-hindu",
   "metadata": {
    "execution": {
     "iopub.execute_input": "2021-06-20T03:20:36.610686Z",
     "iopub.status.busy": "2021-06-20T03:20:36.609125Z",
     "iopub.status.idle": "2021-06-20T03:20:36.611405Z",
     "shell.execute_reply": "2021-06-20T03:20:36.611852Z",
     "shell.execute_reply.started": "2021-06-20T02:42:22.518999Z"
    },
    "papermill": {
     "duration": 0.557526,
     "end_time": "2021-06-20T03:20:36.612012",
     "exception": false,
     "start_time": "2021-06-20T03:20:36.054486",
     "status": "completed"
    },
    "tags": []
   },
   "outputs": [],
   "source": [
    "from keras.callbacks import EarlyStopping\n",
    "early_stopping = EarlyStopping(min_delta = 0.001,\n",
    "                               mode = 'max',\n",
    "                               monitor = 'val_acc',\n",
    "                               patience = 2)\n",
    "callback = [early_stopping]"
   ]
  },
  {
   "cell_type": "code",
   "execution_count": 47,
   "id": "logical-scroll",
   "metadata": {
    "execution": {
     "iopub.execute_input": "2021-06-20T03:20:37.976341Z",
     "iopub.status.busy": "2021-06-20T03:20:37.975779Z",
     "iopub.status.idle": "2021-06-20T03:37:37.852715Z",
     "shell.execute_reply": "2021-06-20T03:37:37.853656Z",
     "shell.execute_reply.started": "2021-06-20T02:42:22.524737Z"
    },
    "papermill": {
     "duration": 1020.495421,
     "end_time": "2021-06-20T03:37:37.853865",
     "exception": false,
     "start_time": "2021-06-20T03:20:37.358444",
     "status": "completed"
    },
    "tags": []
   },
   "outputs": [
    {
     "name": "stdout",
     "output_type": "stream",
     "text": [
      "Epoch 1/3\n",
      "\u001b[1m488/488\u001b[0m \u001b[32m━━━━━━━━━━━━━━━━━━━━\u001b[0m\u001b[37m\u001b[0m \u001b[1m3927s\u001b[0m 8s/step - accuracy: 0.5168 - loss: 1.2088 - val_accuracy: 0.5228 - val_loss: 1.1983\n",
      "Epoch 2/3\n"
     ]
    },
    {
     "name": "stderr",
     "output_type": "stream",
     "text": [
      "d:\\python3105\\lib\\site-packages\\keras\\src\\callbacks\\early_stopping.py:153: UserWarning: Early stopping conditioned on metric `val_acc` which is not available. Available metrics are: accuracy,loss,val_accuracy,val_loss\n",
      "  current = self.get_monitor_value(logs)\n"
     ]
    },
    {
     "name": "stdout",
     "output_type": "stream",
     "text": [
      "\u001b[1m488/488\u001b[0m \u001b[32m━━━━━━━━━━━━━━━━━━━━\u001b[0m\u001b[37m\u001b[0m \u001b[1m3496s\u001b[0m 7s/step - accuracy: 0.5247 - loss: 1.1925 - val_accuracy: 0.5253 - val_loss: 1.1941\n",
      "Epoch 3/3\n",
      "\u001b[1m488/488\u001b[0m \u001b[32m━━━━━━━━━━━━━━━━━━━━\u001b[0m\u001b[37m\u001b[0m \u001b[1m3078s\u001b[0m 6s/step - accuracy: 0.5223 - loss: 1.1896 - val_accuracy: 0.5250 - val_loss: 1.1947\n",
      "CPU times: total: 8h 12min 7s\n",
      "Wall time: 2h 55min 2s\n"
     ]
    }
   ],
   "source": [
    "%%time\n",
    "\n",
    "num_epochs = 3\n",
    "\n",
    "history = model.fit(X_train,y_train,\n",
    "                    validation_data = (X_val, y_val),\n",
    "                    epochs = num_epochs,\n",
    "                    batch_size = 256,\n",
    "                    verbose = 1,\n",
    "                    callbacks = callback)"
   ]
  },
  {
   "cell_type": "code",
   "execution_count": 31,
   "id": "phantom-kelly",
   "metadata": {
    "execution": {
     "iopub.execute_input": "2021-06-20T03:37:39.923546Z",
     "iopub.status.busy": "2021-06-20T03:37:39.922934Z",
     "iopub.status.idle": "2021-06-20T03:37:40.345703Z",
     "shell.execute_reply": "2021-06-20T03:37:40.346588Z",
     "shell.execute_reply.started": "2021-06-20T02:59:08.820239Z"
    },
    "papermill": {
     "duration": 1.456491,
     "end_time": "2021-06-20T03:37:40.346790",
     "exception": false,
     "start_time": "2021-06-20T03:37:38.890299",
     "status": "completed"
    },
    "tags": []
   },
   "outputs": [
    {
     "data": {
      "image/png": "[encoded data removed]",
      "text/plain": [
       "<Figure size 432x288 with 1 Axes>"
      ]
     },
     "metadata": {
      "needs_background": "light"
     },
     "output_type": "display_data"
    },
    {
     "data": {
      "image/png": "[encoded data removed]",
      "text/plain": [
       "<Figure size 432x288 with 1 Axes>"
      ]
     },
     "metadata": {
      "needs_background": "light"
     },
     "output_type": "display_data"
    }
   ],
   "source": [
    "def plot_graphs(history, string):\n",
    "    plt.plot(history.history[string])\n",
    "    plt.plot(history.history['val_'+string])\n",
    "    plt.xlabel(\"Epochs\")\n",
    "    plt.ylabel(string)\n",
    "    plt.legend([string, 'val_'+string])\n",
    "    plt.show()\n",
    "  \n",
    "plot_graphs(history, 'accuracy')\n",
    "plot_graphs(history, 'loss')"
   ]
  },
  {
   "cell_type": "code",
   "execution_count": 32,
   "id": "worse-given",
   "metadata": {
    "execution": {
     "iopub.execute_input": "2021-06-20T03:37:42.478376Z",
     "iopub.status.busy": "2021-06-20T03:37:42.476889Z",
     "iopub.status.idle": "2021-06-20T03:37:42.479175Z",
     "shell.execute_reply": "2021-06-20T03:37:42.479599Z",
     "shell.execute_reply.started": "2021-06-20T02:59:09.108632Z"
    },
    "papermill": {
     "duration": 1.063396,
     "end_time": "2021-06-20T03:37:42.479733",
     "exception": false,
     "start_time": "2021-06-20T03:37:41.416337",
     "status": "completed"
    },
    "tags": []
   },
   "outputs": [],
   "source": [
    "test_id = test_data['PhraseId']"
   ]
  },
  {
   "cell_type": "code",
   "execution_count": 33,
   "id": "adjustable-solid",
   "metadata": {
    "execution": {
     "iopub.execute_input": "2021-06-20T03:37:44.577769Z",
     "iopub.status.busy": "2021-06-20T03:37:44.577182Z",
     "iopub.status.idle": "2021-06-20T03:38:38.037174Z",
     "shell.execute_reply": "2021-06-20T03:38:38.037659Z",
     "shell.execute_reply.started": "2021-06-20T02:59:09.114119Z"
    },
    "papermill": {
     "duration": 54.491964,
     "end_time": "2021-06-20T03:38:38.037807",
     "exception": false,
     "start_time": "2021-06-20T03:37:43.545843",
     "status": "completed"
    },
    "tags": []
   },
   "outputs": [
    {
     "name": "stdout",
     "output_type": "stream",
     "text": [
      "CPU times: user 53.2 s, sys: 526 ms, total: 53.7 s\n",
      "Wall time: 52.4 s\n"
     ]
    }
   ],
   "source": [
    "%%time\n",
    "\n",
    "y_pred = np.argmax(model.predict(X_test), axis = -1)"
   ]
  },
  {
   "cell_type": "code",
   "execution_count": 34,
   "id": "solved-transfer",
   "metadata": {
    "execution": {
     "iopub.execute_input": "2021-06-20T03:38:40.094040Z",
     "iopub.status.busy": "2021-06-20T03:38:40.093475Z",
     "iopub.status.idle": "2021-06-20T03:38:40.212966Z",
     "shell.execute_reply": "2021-06-20T03:38:40.213691Z",
     "shell.execute_reply.started": "2021-06-20T03:00:03.922077Z"
    },
    "papermill": {
     "duration": 1.152298,
     "end_time": "2021-06-20T03:38:40.213840",
     "exception": false,
     "start_time": "2021-06-20T03:38:39.061542",
     "status": "completed"
    },
    "tags": []
   },
   "outputs": [
    {
     "data": {
      "text/html": [
       "<div>\n",
       "<style scoped>\n",
       "    .dataframe tbody tr th:only-of-type {\n",
       "        vertical-align: middle;\n",
       "    }\n",
       "\n",
       "    .dataframe tbody tr th {\n",
       "        vertical-align: top;\n",
       "    }\n",
       "\n",
       "    .dataframe thead th {\n",
       "        text-align: right;\n",
       "    }\n",
       "</style>\n",
       "<table border=\"1\" class=\"dataframe\">\n",
       "  <thead>\n",
       "    <tr style=\"text-align: right;\">\n",
       "      <th></th>\n",
       "      <th>PhraseId</th>\n",
       "      <th>Sentiment</th>\n",
       "    </tr>\n",
       "  </thead>\n",
       "  <tbody>\n",
       "    <tr>\n",
       "      <th>0</th>\n",
       "      <td>156061</td>\n",
       "      <td>3</td>\n",
       "    </tr>\n",
       "    <tr>\n",
       "      <th>1</th>\n",
       "      <td>156062</td>\n",
       "      <td>3</td>\n",
       "    </tr>\n",
       "    <tr>\n",
       "      <th>2</th>\n",
       "      <td>156063</td>\n",
       "      <td>2</td>\n",
       "    </tr>\n",
       "    <tr>\n",
       "      <th>3</th>\n",
       "      <td>156064</td>\n",
       "      <td>3</td>\n",
       "    </tr>\n",
       "    <tr>\n",
       "      <th>4</th>\n",
       "      <td>156065</td>\n",
       "      <td>3</td>\n",
       "    </tr>\n",
       "  </tbody>\n",
       "</table>\n",
       "</div>"
      ],
      "text/plain": [
       "   PhraseId  Sentiment\n",
       "0    156061          3\n",
       "1    156062          3\n",
       "2    156063          2\n",
       "3    156064          3\n",
       "4    156065          3"
      ]
     },
     "execution_count": 34,
     "metadata": {},
     "output_type": "execute_result"
    }
   ],
   "source": [
    "submission_df = pd.DataFrame({'PhraseId': test_id, 'Sentiment': y_pred})\n",
    "submission_df.to_csv('submission_.csv', index=False)\n",
    "submission_df.head()"
   ]
  }
 ],
 "metadata": {
  "kernelspec": {
   "display_name": "Python 3",
   "language": "python",
   "name": "python3"
  },
  "language_info": {
   "codemirror_mode": {
    "name": "ipython",
    "version": 3
   },
   "file_extension": ".py",
   "mimetype": "text/x-python",
   "name": "python",
   "nbconvert_exporter": "python",
   "pygments_lexer": "ipython3",
   "version": "3.10.5"
  },
  "papermill": {
   "default_parameters": {},
   "duration": 1392.815818,
   "end_time": "2021-06-20T03:38:43.691712",
   "environment_variables": {},
   "exception": null,
   "input_path": "__notebook__.ipynb",
   "output_path": "__notebook__.ipynb",
   "parameters": {},
   "start_time": "2021-06-20T03:15:30.875894",
   "version": "2.3.3"
  }
 },
 "nbformat": 4,
 "nbformat_minor": 5
}

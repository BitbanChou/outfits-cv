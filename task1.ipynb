{
 "cells": [
  {
   "cell_type": "code",
   "execution_count": 1,
   "id": "7ae5e4f6",
   "metadata": {},
   "outputs": [
    {
     "name": "stdout",
     "output_type": "stream",
     "text": [
      "问题：年假最少可以请几天？\n",
      "答案：根据公司员工管理制度第三章第六条的规定，年假的最小请假单位为0.5天。所以，年假最少可以请0.5天。\n"
     ]
    }
   ],
   "source": [
    "from zhipuai import ZhipuAI\n",
    "import requests\n",
    "#client = ZhipuAI(api_key=\"c426b0e2580840c8bae573df50f58ecf.2lC1bh8WlqNgAWPI\")\n",
    "# 1. 加载文档\n",
    "with open(\"knowledge_base/公司制度.txt\", \"r\", encoding=\"utf-8\") as f:\n",
    "    text = f.read()\n",
    "\n",
    "# 2. 分割文本（示例：简单按段落分割）\n",
    "chunks = [p for p in text.split(\"\\n\") if p.strip()]\n",
    "\n",
    "# 3. 智谱API问答\n",
    "client = ZhipuAI(api_key=\"c426b0e2580840c8bae573df50f58ecf.2lC1bh8WlqNgAWPI\")\n",
    "\n",
    "def ask_zhipu(question, context):\n",
    "    prompt = f\"根据以下内容回答问题：\\n{context}\\n\\n问题：{question}\"\n",
    "    response = client.chat.completions.create(\n",
    "        model=\"glm-4\",\n",
    "        messages=[{\"role\": \"user\", \"content\": prompt}],\n",
    "        temperature=0.3\n",
    "    )\n",
    "    return response.choices[0].message.content\n",
    "\n",
    "# 4. 使用示例\n",
    "question = \"年假最少可以请几天？\"\n",
    "answer = ask_zhipu(question, text[:2000])  # 限制上下文长度\n",
    "print(f\"问题：{question}\\n答案：{answer}\")"
   ]
  }
 ],
 "metadata": {
  "kernelspec": {
   "display_name": "Python 3",
   "language": "python",
   "name": "python3"
  },
  "language_info": {
   "codemirror_mode": {
    "name": "ipython",
    "version": 3
   },
   "file_extension": ".py",
   "mimetype": "text/x-python",
   "name": "python",
   "nbconvert_exporter": "python",
   "pygments_lexer": "ipython3",
   "version": "3.10.5"
  }
 },
 "nbformat": 4,
 "nbformat_minor": 5
}
